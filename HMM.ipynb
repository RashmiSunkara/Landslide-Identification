{
  "nbformat": 4,
  "nbformat_minor": 0,
  "metadata": {
    "colab": {
      "provenance": [],
      "include_colab_link": true
    },
    "kernelspec": {
      "name": "python3",
      "display_name": "Python 3"
    },
    "language_info": {
      "name": "python"
    },
    "gpuClass": "standard"
  },
  "cells": [
    {
      "cell_type": "markdown",
      "metadata": {
        "id": "view-in-github",
        "colab_type": "text"
      },
      "source": [
        "<a href=\"https://colab.research.google.com/github/RashmiSunkara/Landslide-Identification/blob/main/HMM.ipynb\" target=\"_parent\"><img src=\"https://colab.research.google.com/assets/colab-badge.svg\" alt=\"Open In Colab\"/></a>"
      ]
    },
    {
      "cell_type": "code",
      "source": [
        "!pip install hmmlearn"
      ],
      "metadata": {
        "colab": {
          "base_uri": "https://localhost:8080/"
        },
        "id": "lXxXFkO-I1VI",
        "outputId": "e96b9d1e-e8cb-469a-aeff-97ae4f566dda"
      },
      "execution_count": null,
      "outputs": [
        {
          "output_type": "stream",
          "name": "stdout",
          "text": [
            "Looking in indexes: https://pypi.org/simple, https://us-python.pkg.dev/colab-wheels/public/simple/\n",
            "Collecting hmmlearn\n",
            "  Downloading hmmlearn-0.2.8-cp39-cp39-manylinux_2_5_x86_64.manylinux1_x86_64.whl (217 kB)\n",
            "\u001b[2K     \u001b[90m━━━━━━━━━━━━━━━━━━━━━━━━━━━━━━━━━━━━━━━\u001b[0m \u001b[32m217.2/217.2 KB\u001b[0m \u001b[31m7.9 MB/s\u001b[0m eta \u001b[36m0:00:00\u001b[0m\n",
            "\u001b[?25hRequirement already satisfied: numpy>=1.10 in /usr/local/lib/python3.9/dist-packages (from hmmlearn) (1.22.4)\n",
            "Requirement already satisfied: scipy>=0.19 in /usr/local/lib/python3.9/dist-packages (from hmmlearn) (1.10.1)\n",
            "Requirement already satisfied: scikit-learn>=0.16 in /usr/local/lib/python3.9/dist-packages (from hmmlearn) (1.2.2)\n",
            "Requirement already satisfied: threadpoolctl>=2.0.0 in /usr/local/lib/python3.9/dist-packages (from scikit-learn>=0.16->hmmlearn) (3.1.0)\n",
            "Requirement already satisfied: joblib>=1.1.1 in /usr/local/lib/python3.9/dist-packages (from scikit-learn>=0.16->hmmlearn) (1.1.1)\n",
            "Installing collected packages: hmmlearn\n",
            "Successfully installed hmmlearn-0.2.8\n"
          ]
        }
      ]
    },
    {
      "cell_type": "code",
      "execution_count": null,
      "metadata": {
        "id": "iD8f4hAB1Vwf"
      },
      "outputs": [],
      "source": [
        "import pandas as pd\n",
        "import numpy as np\n",
        "from hmmlearn import hmm"
      ]
    },
    {
      "cell_type": "markdown",
      "source": [
        "Data Exploration and Preprocessing"
      ],
      "metadata": {
        "id": "rMrYYP3-2aQu"
      }
    },
    {
      "cell_type": "code",
      "source": [
        "#loading data\n",
        "data = pd.read_csv(\"/content/drive/MyDrive/Colab Notebooks/Major Project/Global_Landslide_Final.csv\")"
      ],
      "metadata": {
        "id": "VQOyYkty2NjS"
      },
      "execution_count": null,
      "outputs": []
    },
    {
      "cell_type": "code",
      "source": [
        "data.head()"
      ],
      "metadata": {
        "colab": {
          "base_uri": "https://localhost:8080/"
        },
        "id": "UXDuoF4B3yIr",
        "outputId": "97a4d3e5-9716-4e3b-9ca7-8d2cf9e0bd72"
      },
      "execution_count": null,
      "outputs": [
        {
          "output_type": "execute_result",
          "data": {
            "text/plain": [
              "  landslide_trigger  event_id    formatted_date  event_date  event_month  \\\n",
              "0      Construction      7544   7/14/2015 23:00   7/14/2015            7   \n",
              "1      Construction      7616  08-06-2015 00:00  08-06-2015            8   \n",
              "2      Construction      9558    9/27/2016 0:00   9/27/2016            9   \n",
              "3      Construction      6480  08-12-2014 00:00  08-12-2014            8   \n",
              "4      Construction      6030    5/17/2014 0:00   5/17/2014            5   \n",
              "\n",
              "   event_day event_time                                 event_title  \\\n",
              "0         14      23:00              Highbury Rd and Huntingdale Rd   \n",
              "1          6      09:00                               Atlanta Point   \n",
              "2         27      00:00                         Basaksehir district   \n",
              "3         12      02:30  the metro bus flyover project in Sector G9   \n",
              "4         17      09:00                               Dariali Gorge   \n",
              "\n",
              "                                   event_description  \\\n",
              "0  WITNESSES have detailed the dramatic moment th...   \n",
              "1  The PBMC Chairperson, Mr. Armugam has made an ...   \n",
              "2  People had been working both at the top and at...   \n",
              "3  The labourers were busy in work on the metro b...   \n",
              "4  A landslide in the Dariali Gorge in Georgia ha...   \n",
              "\n",
              "                         location_description  ... landslide_size  \\\n",
              "0              Highbury Rd and Huntingdale Rd  ...          small   \n",
              "1                               Atlanta Point  ...         medium   \n",
              "2                         Basaksehir district  ...         medium   \n",
              "3  the metro bus flyover project in Sector G9  ...          small   \n",
              "4                               Dariali Gorge  ...         medium   \n",
              "\n",
              "  fatality_count injury_count  country_name  country_code population  \\\n",
              "0            NaN          NaN     Australia            AU    11886.0   \n",
              "1            0.0          0.0         India            IN   112050.0   \n",
              "2            0.0          0.0        Turkey            TR   193750.0   \n",
              "3            2.0          4.0      Pakistan            PK   601600.0   \n",
              "4            8.0          0.0       Georgia            GE     2628.0   \n",
              "\n",
              "  gazeteer_closest_point  gazeteer_distance longitude  latitude  \n",
              "0                Burwood            0.77420  145.1147  -37.8558  \n",
              "1             Port Blair            0.96496   92.7490   11.6753  \n",
              "2           BaÅŸakÅŸehir            2.78453   28.7701   41.0863  \n",
              "3              Islamabad            3.05654   73.0399   33.6941  \n",
              "4       Stepâ€™antsminda            9.57790   44.5015   42.7204  \n",
              "\n",
              "[5 rows x 22 columns]"
            ],
            "text/html": [
              "\n",
              "  <div id=\"df-23410c2b-eb64-4042-8e7a-1b4c081283e9\">\n",
              "    <div class=\"colab-df-container\">\n",
              "      <div>\n",
              "<style scoped>\n",
              "    .dataframe tbody tr th:only-of-type {\n",
              "        vertical-align: middle;\n",
              "    }\n",
              "\n",
              "    .dataframe tbody tr th {\n",
              "        vertical-align: top;\n",
              "    }\n",
              "\n",
              "    .dataframe thead th {\n",
              "        text-align: right;\n",
              "    }\n",
              "</style>\n",
              "<table border=\"1\" class=\"dataframe\">\n",
              "  <thead>\n",
              "    <tr style=\"text-align: right;\">\n",
              "      <th></th>\n",
              "      <th>landslide_trigger</th>\n",
              "      <th>event_id</th>\n",
              "      <th>formatted_date</th>\n",
              "      <th>event_date</th>\n",
              "      <th>event_month</th>\n",
              "      <th>event_day</th>\n",
              "      <th>event_time</th>\n",
              "      <th>event_title</th>\n",
              "      <th>event_description</th>\n",
              "      <th>location_description</th>\n",
              "      <th>...</th>\n",
              "      <th>landslide_size</th>\n",
              "      <th>fatality_count</th>\n",
              "      <th>injury_count</th>\n",
              "      <th>country_name</th>\n",
              "      <th>country_code</th>\n",
              "      <th>population</th>\n",
              "      <th>gazeteer_closest_point</th>\n",
              "      <th>gazeteer_distance</th>\n",
              "      <th>longitude</th>\n",
              "      <th>latitude</th>\n",
              "    </tr>\n",
              "  </thead>\n",
              "  <tbody>\n",
              "    <tr>\n",
              "      <th>0</th>\n",
              "      <td>Construction</td>\n",
              "      <td>7544</td>\n",
              "      <td>7/14/2015 23:00</td>\n",
              "      <td>7/14/2015</td>\n",
              "      <td>7</td>\n",
              "      <td>14</td>\n",
              "      <td>23:00</td>\n",
              "      <td>Highbury Rd and Huntingdale Rd</td>\n",
              "      <td>WITNESSES have detailed the dramatic moment th...</td>\n",
              "      <td>Highbury Rd and Huntingdale Rd</td>\n",
              "      <td>...</td>\n",
              "      <td>small</td>\n",
              "      <td>NaN</td>\n",
              "      <td>NaN</td>\n",
              "      <td>Australia</td>\n",
              "      <td>AU</td>\n",
              "      <td>11886.0</td>\n",
              "      <td>Burwood</td>\n",
              "      <td>0.77420</td>\n",
              "      <td>145.1147</td>\n",
              "      <td>-37.8558</td>\n",
              "    </tr>\n",
              "    <tr>\n",
              "      <th>1</th>\n",
              "      <td>Construction</td>\n",
              "      <td>7616</td>\n",
              "      <td>08-06-2015 00:00</td>\n",
              "      <td>08-06-2015</td>\n",
              "      <td>8</td>\n",
              "      <td>6</td>\n",
              "      <td>09:00</td>\n",
              "      <td>Atlanta Point</td>\n",
              "      <td>The PBMC Chairperson, Mr. Armugam has made an ...</td>\n",
              "      <td>Atlanta Point</td>\n",
              "      <td>...</td>\n",
              "      <td>medium</td>\n",
              "      <td>0.0</td>\n",
              "      <td>0.0</td>\n",
              "      <td>India</td>\n",
              "      <td>IN</td>\n",
              "      <td>112050.0</td>\n",
              "      <td>Port Blair</td>\n",
              "      <td>0.96496</td>\n",
              "      <td>92.7490</td>\n",
              "      <td>11.6753</td>\n",
              "    </tr>\n",
              "    <tr>\n",
              "      <th>2</th>\n",
              "      <td>Construction</td>\n",
              "      <td>9558</td>\n",
              "      <td>9/27/2016 0:00</td>\n",
              "      <td>9/27/2016</td>\n",
              "      <td>9</td>\n",
              "      <td>27</td>\n",
              "      <td>00:00</td>\n",
              "      <td>Basaksehir district</td>\n",
              "      <td>People had been working both at the top and at...</td>\n",
              "      <td>Basaksehir district</td>\n",
              "      <td>...</td>\n",
              "      <td>medium</td>\n",
              "      <td>0.0</td>\n",
              "      <td>0.0</td>\n",
              "      <td>Turkey</td>\n",
              "      <td>TR</td>\n",
              "      <td>193750.0</td>\n",
              "      <td>BaÅŸakÅŸehir</td>\n",
              "      <td>2.78453</td>\n",
              "      <td>28.7701</td>\n",
              "      <td>41.0863</td>\n",
              "    </tr>\n",
              "    <tr>\n",
              "      <th>3</th>\n",
              "      <td>Construction</td>\n",
              "      <td>6480</td>\n",
              "      <td>08-12-2014 00:00</td>\n",
              "      <td>08-12-2014</td>\n",
              "      <td>8</td>\n",
              "      <td>12</td>\n",
              "      <td>02:30</td>\n",
              "      <td>the metro bus flyover project in Sector G9</td>\n",
              "      <td>The labourers were busy in work on the metro b...</td>\n",
              "      <td>the metro bus flyover project in Sector G9</td>\n",
              "      <td>...</td>\n",
              "      <td>small</td>\n",
              "      <td>2.0</td>\n",
              "      <td>4.0</td>\n",
              "      <td>Pakistan</td>\n",
              "      <td>PK</td>\n",
              "      <td>601600.0</td>\n",
              "      <td>Islamabad</td>\n",
              "      <td>3.05654</td>\n",
              "      <td>73.0399</td>\n",
              "      <td>33.6941</td>\n",
              "    </tr>\n",
              "    <tr>\n",
              "      <th>4</th>\n",
              "      <td>Construction</td>\n",
              "      <td>6030</td>\n",
              "      <td>5/17/2014 0:00</td>\n",
              "      <td>5/17/2014</td>\n",
              "      <td>5</td>\n",
              "      <td>17</td>\n",
              "      <td>09:00</td>\n",
              "      <td>Dariali Gorge</td>\n",
              "      <td>A landslide in the Dariali Gorge in Georgia ha...</td>\n",
              "      <td>Dariali Gorge</td>\n",
              "      <td>...</td>\n",
              "      <td>medium</td>\n",
              "      <td>8.0</td>\n",
              "      <td>0.0</td>\n",
              "      <td>Georgia</td>\n",
              "      <td>GE</td>\n",
              "      <td>2628.0</td>\n",
              "      <td>Stepâ€™antsminda</td>\n",
              "      <td>9.57790</td>\n",
              "      <td>44.5015</td>\n",
              "      <td>42.7204</td>\n",
              "    </tr>\n",
              "  </tbody>\n",
              "</table>\n",
              "<p>5 rows × 22 columns</p>\n",
              "</div>\n",
              "      <button class=\"colab-df-convert\" onclick=\"convertToInteractive('df-23410c2b-eb64-4042-8e7a-1b4c081283e9')\"\n",
              "              title=\"Convert this dataframe to an interactive table.\"\n",
              "              style=\"display:none;\">\n",
              "        \n",
              "  <svg xmlns=\"http://www.w3.org/2000/svg\" height=\"24px\"viewBox=\"0 0 24 24\"\n",
              "       width=\"24px\">\n",
              "    <path d=\"M0 0h24v24H0V0z\" fill=\"none\"/>\n",
              "    <path d=\"M18.56 5.44l.94 2.06.94-2.06 2.06-.94-2.06-.94-.94-2.06-.94 2.06-2.06.94zm-11 1L8.5 8.5l.94-2.06 2.06-.94-2.06-.94L8.5 2.5l-.94 2.06-2.06.94zm10 10l.94 2.06.94-2.06 2.06-.94-2.06-.94-.94-2.06-.94 2.06-2.06.94z\"/><path d=\"M17.41 7.96l-1.37-1.37c-.4-.4-.92-.59-1.43-.59-.52 0-1.04.2-1.43.59L10.3 9.45l-7.72 7.72c-.78.78-.78 2.05 0 2.83L4 21.41c.39.39.9.59 1.41.59.51 0 1.02-.2 1.41-.59l7.78-7.78 2.81-2.81c.8-.78.8-2.07 0-2.86zM5.41 20L4 18.59l7.72-7.72 1.47 1.35L5.41 20z\"/>\n",
              "  </svg>\n",
              "      </button>\n",
              "      \n",
              "  <style>\n",
              "    .colab-df-container {\n",
              "      display:flex;\n",
              "      flex-wrap:wrap;\n",
              "      gap: 12px;\n",
              "    }\n",
              "\n",
              "    .colab-df-convert {\n",
              "      background-color: #E8F0FE;\n",
              "      border: none;\n",
              "      border-radius: 50%;\n",
              "      cursor: pointer;\n",
              "      display: none;\n",
              "      fill: #1967D2;\n",
              "      height: 32px;\n",
              "      padding: 0 0 0 0;\n",
              "      width: 32px;\n",
              "    }\n",
              "\n",
              "    .colab-df-convert:hover {\n",
              "      background-color: #E2EBFA;\n",
              "      box-shadow: 0px 1px 2px rgba(60, 64, 67, 0.3), 0px 1px 3px 1px rgba(60, 64, 67, 0.15);\n",
              "      fill: #174EA6;\n",
              "    }\n",
              "\n",
              "    [theme=dark] .colab-df-convert {\n",
              "      background-color: #3B4455;\n",
              "      fill: #D2E3FC;\n",
              "    }\n",
              "\n",
              "    [theme=dark] .colab-df-convert:hover {\n",
              "      background-color: #434B5C;\n",
              "      box-shadow: 0px 1px 3px 1px rgba(0, 0, 0, 0.15);\n",
              "      filter: drop-shadow(0px 1px 2px rgba(0, 0, 0, 0.3));\n",
              "      fill: #FFFFFF;\n",
              "    }\n",
              "  </style>\n",
              "\n",
              "      <script>\n",
              "        const buttonEl =\n",
              "          document.querySelector('#df-23410c2b-eb64-4042-8e7a-1b4c081283e9 button.colab-df-convert');\n",
              "        buttonEl.style.display =\n",
              "          google.colab.kernel.accessAllowed ? 'block' : 'none';\n",
              "\n",
              "        async function convertToInteractive(key) {\n",
              "          const element = document.querySelector('#df-23410c2b-eb64-4042-8e7a-1b4c081283e9');\n",
              "          const dataTable =\n",
              "            await google.colab.kernel.invokeFunction('convertToInteractive',\n",
              "                                                     [key], {});\n",
              "          if (!dataTable) return;\n",
              "\n",
              "          const docLinkHtml = 'Like what you see? Visit the ' +\n",
              "            '<a target=\"_blank\" href=https://colab.research.google.com/notebooks/data_table.ipynb>data table notebook</a>'\n",
              "            + ' to learn more about interactive tables.';\n",
              "          element.innerHTML = '';\n",
              "          dataTable['output_type'] = 'display_data';\n",
              "          await google.colab.output.renderOutput(dataTable, element);\n",
              "          const docLink = document.createElement('div');\n",
              "          docLink.innerHTML = docLinkHtml;\n",
              "          element.appendChild(docLink);\n",
              "        }\n",
              "      </script>\n",
              "    </div>\n",
              "  </div>\n",
              "  "
            ]
          },
          "metadata": {},
          "execution_count": 4
        }
      ]
    },
    {
      "cell_type": "code",
      "source": [
        "data.dtypes"
      ],
      "metadata": {
        "colab": {
          "base_uri": "https://localhost:8080/"
        },
        "id": "4R2s6HbT5XNl",
        "outputId": "8551d060-7208-463b-a882-70199b05876e"
      },
      "execution_count": null,
      "outputs": [
        {
          "output_type": "execute_result",
          "data": {
            "text/plain": [
              "landslide_trigger          object\n",
              "event_id                    int64\n",
              "formatted_date             object\n",
              "event_date                 object\n",
              "event_month                 int64\n",
              "event_day                   int64\n",
              "event_time                 object\n",
              "event_title                object\n",
              "event_description          object\n",
              "location_description       object\n",
              "location_accuracy          object\n",
              "landslide_category         object\n",
              "landslide_size             object\n",
              "fatality_count            float64\n",
              "injury_count              float64\n",
              "country_name               object\n",
              "country_code               object\n",
              "population                float64\n",
              "gazeteer_closest_point     object\n",
              "gazeteer_distance         float64\n",
              "longitude                 float64\n",
              "latitude                  float64\n",
              "dtype: object"
            ]
          },
          "metadata": {},
          "execution_count": 5
        }
      ]
    },
    {
      "cell_type": "code",
      "source": [
        "data.isna().sum()"
      ],
      "metadata": {
        "colab": {
          "base_uri": "https://localhost:8080/"
        },
        "id": "10djDtvu4PSw",
        "outputId": "170cee51-b49a-4ada-8821-43fac70b4f52"
      },
      "execution_count": null,
      "outputs": [
        {
          "output_type": "execute_result",
          "data": {
            "text/plain": [
              "landslide_trigger            0\n",
              "event_id                     0\n",
              "formatted_date               0\n",
              "event_date                   0\n",
              "event_month                  0\n",
              "event_day                    0\n",
              "event_time                 397\n",
              "event_title                  0\n",
              "event_description           86\n",
              "location_description        81\n",
              "location_accuracy            1\n",
              "landslide_category           0\n",
              "landslide_size               0\n",
              "fatality_count            1321\n",
              "injury_count              5458\n",
              "country_name              1160\n",
              "country_code              1314\n",
              "population                1312\n",
              "gazeteer_closest_point    1313\n",
              "gazeteer_distance         1312\n",
              "longitude                    0\n",
              "latitude                     0\n",
              "dtype: int64"
            ]
          },
          "metadata": {},
          "execution_count": 6
        }
      ]
    },
    {
      "cell_type": "markdown",
      "source": [
        "Observed States : landslide_trigger,landslide_size,gazeteer_closest_point,gazeteer_distance\n",
        "\n",
        "Hidden States : landslide_category which has 9 states namely slide,complex,rock_fall,earth_fall,debris_flow and snow_avalanche"
      ],
      "metadata": {
        "id": "HyJkTPdPxEk2"
      }
    },
    {
      "cell_type": "code",
      "source": [
        "# Get the unique values in a column\n",
        "states =data['landslide_size'].unique()\n",
        "\n",
        "# Print the unique states\n",
        "print(states)"
      ],
      "metadata": {
        "colab": {
          "base_uri": "https://localhost:8080/"
        },
        "id": "8gAIY8z70XdM",
        "outputId": "37869fea-de18-4609-c255-3f63b96ad02d"
      },
      "execution_count": null,
      "outputs": [
        {
          "output_type": "stream",
          "name": "stdout",
          "text": [
            "['small' 'medium' 'large' 'unknown' 'very_large' 'catastrophic']\n"
          ]
        }
      ]
    },
    {
      "cell_type": "code",
      "source": [
        "# Replace 'unknown' values with NaN\n",
        "data['landslide_size'] = data['landslide_size'].replace('unknown', np.nan)\n",
        "landslide_size_mode=data['landslide_size'].mode()[0]\n",
        "# Fill NaN values with the mode\n",
        "data['landslide_size'] = data['landslide_size'].fillna(landslide_size_mode)\n"
      ],
      "metadata": {
        "id": "zXpPk-ystI7V"
      },
      "execution_count": null,
      "outputs": []
    },
    {
      "cell_type": "code",
      "source": [
        "states =data['landslide_size'].unique()\n",
        "print(states)"
      ],
      "metadata": {
        "colab": {
          "base_uri": "https://localhost:8080/"
        },
        "id": "gFNS_XWgO0k3",
        "outputId": "4e1e0e89-afff-4bfb-ceac-ab2d3fd37bb6"
      },
      "execution_count": null,
      "outputs": [
        {
          "output_type": "stream",
          "name": "stdout",
          "text": [
            "['small' 'medium' 'large' 'very_large' 'catastrophic']\n"
          ]
        }
      ]
    },
    {
      "cell_type": "code",
      "source": [
        "# Map the landslide_size column to integer values\n",
        "size_map = {'small': 0, 'medium': 1, 'large': 2, 'very_large': 3, 'catastrophic' : 4}\n",
        "data['landslide_size_int'] = data['landslide_size'].map(size_map)\n",
        "# Remove the original landslide_size column\n",
        "data = data.drop('landslide_size', axis=1)"
      ],
      "metadata": {
        "id": "xqH_4sCX0KxK"
      },
      "execution_count": null,
      "outputs": []
    },
    {
      "cell_type": "code",
      "source": [
        "pos = [ sum(y>=0 for y in data['landslide_size_int']) ]\n",
        "neg = [ len(data['landslide_size_int'])-x for x in pos]\n",
        "print(pos, neg)"
      ],
      "metadata": {
        "colab": {
          "base_uri": "https://localhost:8080/"
        },
        "id": "0Evtf63azRHL",
        "outputId": "05c61975-bb75-4f0f-ba35-08d6efad0a92"
      },
      "execution_count": null,
      "outputs": [
        {
          "output_type": "stream",
          "name": "stdout",
          "text": [
            "[9132] [0]\n"
          ]
        }
      ]
    },
    {
      "cell_type": "code",
      "source": [
        "states =data['landslide_trigger'].unique()\n",
        "print(states)"
      ],
      "metadata": {
        "colab": {
          "base_uri": "https://localhost:8080/"
        },
        "id": "g-68iKiR4cml",
        "outputId": "60cd55ec-6f35-4ac9-fa56-821268a856ae"
      },
      "execution_count": null,
      "outputs": [
        {
          "output_type": "stream",
          "name": "stdout",
          "text": [
            "['Construction' 'Earthquake' 'Flooding' 'Mining' 'Monsoon' 'Rain' 'Snow'\n",
            " 'Tropical_Cyclone']\n"
          ]
        }
      ]
    },
    {
      "cell_type": "code",
      "source": [
        "# Map the landslide_size column to integer values\n",
        "size_map2 = {'Construction': 0, 'Earthquake': 1, 'Flooding': 2, 'Mining': 3, 'Monsoon' : 4, 'Rain' : 5, 'Snow' : 6, 'Tropical_Cyclone' : 7}\n",
        "data['landslide_trigger_int'] = data['landslide_trigger'].map(size_map2)\n",
        "# Remove the original landslide_size column\n",
        "data = data.drop('landslide_trigger', axis=1)"
      ],
      "metadata": {
        "id": "fs-YXGYP4lyJ"
      },
      "execution_count": null,
      "outputs": []
    },
    {
      "cell_type": "code",
      "source": [
        "pos = [ sum(y>=0 for y in data['landslide_trigger_int']) ]\n",
        "neg = [ len(data['landslide_trigger_int'])-x for x in pos]\n",
        "print(pos, neg)"
      ],
      "metadata": {
        "colab": {
          "base_uri": "https://localhost:8080/"
        },
        "id": "FBsJjbBf5NQQ",
        "outputId": "abfea557-6cf8-4aa0-878d-13a11e42fe27"
      },
      "execution_count": null,
      "outputs": [
        {
          "output_type": "stream",
          "name": "stdout",
          "text": [
            "[9132] [0]\n"
          ]
        }
      ]
    },
    {
      "cell_type": "code",
      "source": [
        "data.head()"
      ],
      "metadata": {
        "colab": {
          "base_uri": "https://localhost:8080/"
        },
        "id": "dR5QOVFgqa9G",
        "outputId": "e2fe1bed-787e-4b0e-cdad-7ab0392b1ad6"
      },
      "execution_count": null,
      "outputs": [
        {
          "output_type": "execute_result",
          "data": {
            "text/plain": [
              "   event_id    formatted_date  event_date  event_month  event_day event_time  \\\n",
              "0      7544   7/14/2015 23:00   7/14/2015            7         14      23:00   \n",
              "1      7616  08-06-2015 00:00  08-06-2015            8          6      09:00   \n",
              "2      9558    9/27/2016 0:00   9/27/2016            9         27      00:00   \n",
              "3      6480  08-12-2014 00:00  08-12-2014            8         12      02:30   \n",
              "4      6030    5/17/2014 0:00   5/17/2014            5         17      09:00   \n",
              "\n",
              "                                  event_title  \\\n",
              "0              Highbury Rd and Huntingdale Rd   \n",
              "1                               Atlanta Point   \n",
              "2                         Basaksehir district   \n",
              "3  the metro bus flyover project in Sector G9   \n",
              "4                               Dariali Gorge   \n",
              "\n",
              "                                   event_description  \\\n",
              "0  WITNESSES have detailed the dramatic moment th...   \n",
              "1  The PBMC Chairperson, Mr. Armugam has made an ...   \n",
              "2  People had been working both at the top and at...   \n",
              "3  The labourers were busy in work on the metro b...   \n",
              "4  A landslide in the Dariali Gorge in Georgia ha...   \n",
              "\n",
              "                         location_description location_accuracy  ...  \\\n",
              "0              Highbury Rd and Huntingdale Rd               1km  ...   \n",
              "1                               Atlanta Point               1km  ...   \n",
              "2                         Basaksehir district              10km  ...   \n",
              "3  the metro bus flyover project in Sector G9              25km  ...   \n",
              "4                               Dariali Gorge              10km  ...   \n",
              "\n",
              "  injury_count  country_name  country_code population gazeteer_closest_point  \\\n",
              "0          NaN     Australia            AU    11886.0                Burwood   \n",
              "1          0.0         India            IN   112050.0             Port Blair   \n",
              "2          0.0        Turkey            TR   193750.0           BaÅŸakÅŸehir   \n",
              "3          4.0      Pakistan            PK   601600.0              Islamabad   \n",
              "4          0.0       Georgia            GE     2628.0       Stepâ€™antsminda   \n",
              "\n",
              "   gazeteer_distance longitude  latitude  landslide_size_int  \\\n",
              "0            0.77420  145.1147  -37.8558                   0   \n",
              "1            0.96496   92.7490   11.6753                   1   \n",
              "2            2.78453   28.7701   41.0863                   1   \n",
              "3            3.05654   73.0399   33.6941                   0   \n",
              "4            9.57790   44.5015   42.7204                   1   \n",
              "\n",
              "   landslide_trigger_int  \n",
              "0                      0  \n",
              "1                      0  \n",
              "2                      0  \n",
              "3                      0  \n",
              "4                      0  \n",
              "\n",
              "[5 rows x 22 columns]"
            ],
            "text/html": [
              "\n",
              "  <div id=\"df-1701557c-8c02-43bd-8e8c-cd53dfe65d30\">\n",
              "    <div class=\"colab-df-container\">\n",
              "      <div>\n",
              "<style scoped>\n",
              "    .dataframe tbody tr th:only-of-type {\n",
              "        vertical-align: middle;\n",
              "    }\n",
              "\n",
              "    .dataframe tbody tr th {\n",
              "        vertical-align: top;\n",
              "    }\n",
              "\n",
              "    .dataframe thead th {\n",
              "        text-align: right;\n",
              "    }\n",
              "</style>\n",
              "<table border=\"1\" class=\"dataframe\">\n",
              "  <thead>\n",
              "    <tr style=\"text-align: right;\">\n",
              "      <th></th>\n",
              "      <th>event_id</th>\n",
              "      <th>formatted_date</th>\n",
              "      <th>event_date</th>\n",
              "      <th>event_month</th>\n",
              "      <th>event_day</th>\n",
              "      <th>event_time</th>\n",
              "      <th>event_title</th>\n",
              "      <th>event_description</th>\n",
              "      <th>location_description</th>\n",
              "      <th>location_accuracy</th>\n",
              "      <th>...</th>\n",
              "      <th>injury_count</th>\n",
              "      <th>country_name</th>\n",
              "      <th>country_code</th>\n",
              "      <th>population</th>\n",
              "      <th>gazeteer_closest_point</th>\n",
              "      <th>gazeteer_distance</th>\n",
              "      <th>longitude</th>\n",
              "      <th>latitude</th>\n",
              "      <th>landslide_size_int</th>\n",
              "      <th>landslide_trigger_int</th>\n",
              "    </tr>\n",
              "  </thead>\n",
              "  <tbody>\n",
              "    <tr>\n",
              "      <th>0</th>\n",
              "      <td>7544</td>\n",
              "      <td>7/14/2015 23:00</td>\n",
              "      <td>7/14/2015</td>\n",
              "      <td>7</td>\n",
              "      <td>14</td>\n",
              "      <td>23:00</td>\n",
              "      <td>Highbury Rd and Huntingdale Rd</td>\n",
              "      <td>WITNESSES have detailed the dramatic moment th...</td>\n",
              "      <td>Highbury Rd and Huntingdale Rd</td>\n",
              "      <td>1km</td>\n",
              "      <td>...</td>\n",
              "      <td>NaN</td>\n",
              "      <td>Australia</td>\n",
              "      <td>AU</td>\n",
              "      <td>11886.0</td>\n",
              "      <td>Burwood</td>\n",
              "      <td>0.77420</td>\n",
              "      <td>145.1147</td>\n",
              "      <td>-37.8558</td>\n",
              "      <td>0</td>\n",
              "      <td>0</td>\n",
              "    </tr>\n",
              "    <tr>\n",
              "      <th>1</th>\n",
              "      <td>7616</td>\n",
              "      <td>08-06-2015 00:00</td>\n",
              "      <td>08-06-2015</td>\n",
              "      <td>8</td>\n",
              "      <td>6</td>\n",
              "      <td>09:00</td>\n",
              "      <td>Atlanta Point</td>\n",
              "      <td>The PBMC Chairperson, Mr. Armugam has made an ...</td>\n",
              "      <td>Atlanta Point</td>\n",
              "      <td>1km</td>\n",
              "      <td>...</td>\n",
              "      <td>0.0</td>\n",
              "      <td>India</td>\n",
              "      <td>IN</td>\n",
              "      <td>112050.0</td>\n",
              "      <td>Port Blair</td>\n",
              "      <td>0.96496</td>\n",
              "      <td>92.7490</td>\n",
              "      <td>11.6753</td>\n",
              "      <td>1</td>\n",
              "      <td>0</td>\n",
              "    </tr>\n",
              "    <tr>\n",
              "      <th>2</th>\n",
              "      <td>9558</td>\n",
              "      <td>9/27/2016 0:00</td>\n",
              "      <td>9/27/2016</td>\n",
              "      <td>9</td>\n",
              "      <td>27</td>\n",
              "      <td>00:00</td>\n",
              "      <td>Basaksehir district</td>\n",
              "      <td>People had been working both at the top and at...</td>\n",
              "      <td>Basaksehir district</td>\n",
              "      <td>10km</td>\n",
              "      <td>...</td>\n",
              "      <td>0.0</td>\n",
              "      <td>Turkey</td>\n",
              "      <td>TR</td>\n",
              "      <td>193750.0</td>\n",
              "      <td>BaÅŸakÅŸehir</td>\n",
              "      <td>2.78453</td>\n",
              "      <td>28.7701</td>\n",
              "      <td>41.0863</td>\n",
              "      <td>1</td>\n",
              "      <td>0</td>\n",
              "    </tr>\n",
              "    <tr>\n",
              "      <th>3</th>\n",
              "      <td>6480</td>\n",
              "      <td>08-12-2014 00:00</td>\n",
              "      <td>08-12-2014</td>\n",
              "      <td>8</td>\n",
              "      <td>12</td>\n",
              "      <td>02:30</td>\n",
              "      <td>the metro bus flyover project in Sector G9</td>\n",
              "      <td>The labourers were busy in work on the metro b...</td>\n",
              "      <td>the metro bus flyover project in Sector G9</td>\n",
              "      <td>25km</td>\n",
              "      <td>...</td>\n",
              "      <td>4.0</td>\n",
              "      <td>Pakistan</td>\n",
              "      <td>PK</td>\n",
              "      <td>601600.0</td>\n",
              "      <td>Islamabad</td>\n",
              "      <td>3.05654</td>\n",
              "      <td>73.0399</td>\n",
              "      <td>33.6941</td>\n",
              "      <td>0</td>\n",
              "      <td>0</td>\n",
              "    </tr>\n",
              "    <tr>\n",
              "      <th>4</th>\n",
              "      <td>6030</td>\n",
              "      <td>5/17/2014 0:00</td>\n",
              "      <td>5/17/2014</td>\n",
              "      <td>5</td>\n",
              "      <td>17</td>\n",
              "      <td>09:00</td>\n",
              "      <td>Dariali Gorge</td>\n",
              "      <td>A landslide in the Dariali Gorge in Georgia ha...</td>\n",
              "      <td>Dariali Gorge</td>\n",
              "      <td>10km</td>\n",
              "      <td>...</td>\n",
              "      <td>0.0</td>\n",
              "      <td>Georgia</td>\n",
              "      <td>GE</td>\n",
              "      <td>2628.0</td>\n",
              "      <td>Stepâ€™antsminda</td>\n",
              "      <td>9.57790</td>\n",
              "      <td>44.5015</td>\n",
              "      <td>42.7204</td>\n",
              "      <td>1</td>\n",
              "      <td>0</td>\n",
              "    </tr>\n",
              "  </tbody>\n",
              "</table>\n",
              "<p>5 rows × 22 columns</p>\n",
              "</div>\n",
              "      <button class=\"colab-df-convert\" onclick=\"convertToInteractive('df-1701557c-8c02-43bd-8e8c-cd53dfe65d30')\"\n",
              "              title=\"Convert this dataframe to an interactive table.\"\n",
              "              style=\"display:none;\">\n",
              "        \n",
              "  <svg xmlns=\"http://www.w3.org/2000/svg\" height=\"24px\"viewBox=\"0 0 24 24\"\n",
              "       width=\"24px\">\n",
              "    <path d=\"M0 0h24v24H0V0z\" fill=\"none\"/>\n",
              "    <path d=\"M18.56 5.44l.94 2.06.94-2.06 2.06-.94-2.06-.94-.94-2.06-.94 2.06-2.06.94zm-11 1L8.5 8.5l.94-2.06 2.06-.94-2.06-.94L8.5 2.5l-.94 2.06-2.06.94zm10 10l.94 2.06.94-2.06 2.06-.94-2.06-.94-.94-2.06-.94 2.06-2.06.94z\"/><path d=\"M17.41 7.96l-1.37-1.37c-.4-.4-.92-.59-1.43-.59-.52 0-1.04.2-1.43.59L10.3 9.45l-7.72 7.72c-.78.78-.78 2.05 0 2.83L4 21.41c.39.39.9.59 1.41.59.51 0 1.02-.2 1.41-.59l7.78-7.78 2.81-2.81c.8-.78.8-2.07 0-2.86zM5.41 20L4 18.59l7.72-7.72 1.47 1.35L5.41 20z\"/>\n",
              "  </svg>\n",
              "      </button>\n",
              "      \n",
              "  <style>\n",
              "    .colab-df-container {\n",
              "      display:flex;\n",
              "      flex-wrap:wrap;\n",
              "      gap: 12px;\n",
              "    }\n",
              "\n",
              "    .colab-df-convert {\n",
              "      background-color: #E8F0FE;\n",
              "      border: none;\n",
              "      border-radius: 50%;\n",
              "      cursor: pointer;\n",
              "      display: none;\n",
              "      fill: #1967D2;\n",
              "      height: 32px;\n",
              "      padding: 0 0 0 0;\n",
              "      width: 32px;\n",
              "    }\n",
              "\n",
              "    .colab-df-convert:hover {\n",
              "      background-color: #E2EBFA;\n",
              "      box-shadow: 0px 1px 2px rgba(60, 64, 67, 0.3), 0px 1px 3px 1px rgba(60, 64, 67, 0.15);\n",
              "      fill: #174EA6;\n",
              "    }\n",
              "\n",
              "    [theme=dark] .colab-df-convert {\n",
              "      background-color: #3B4455;\n",
              "      fill: #D2E3FC;\n",
              "    }\n",
              "\n",
              "    [theme=dark] .colab-df-convert:hover {\n",
              "      background-color: #434B5C;\n",
              "      box-shadow: 0px 1px 3px 1px rgba(0, 0, 0, 0.15);\n",
              "      filter: drop-shadow(0px 1px 2px rgba(0, 0, 0, 0.3));\n",
              "      fill: #FFFFFF;\n",
              "    }\n",
              "  </style>\n",
              "\n",
              "      <script>\n",
              "        const buttonEl =\n",
              "          document.querySelector('#df-1701557c-8c02-43bd-8e8c-cd53dfe65d30 button.colab-df-convert');\n",
              "        buttonEl.style.display =\n",
              "          google.colab.kernel.accessAllowed ? 'block' : 'none';\n",
              "\n",
              "        async function convertToInteractive(key) {\n",
              "          const element = document.querySelector('#df-1701557c-8c02-43bd-8e8c-cd53dfe65d30');\n",
              "          const dataTable =\n",
              "            await google.colab.kernel.invokeFunction('convertToInteractive',\n",
              "                                                     [key], {});\n",
              "          if (!dataTable) return;\n",
              "\n",
              "          const docLinkHtml = 'Like what you see? Visit the ' +\n",
              "            '<a target=\"_blank\" href=https://colab.research.google.com/notebooks/data_table.ipynb>data table notebook</a>'\n",
              "            + ' to learn more about interactive tables.';\n",
              "          element.innerHTML = '';\n",
              "          dataTable['output_type'] = 'display_data';\n",
              "          await google.colab.output.renderOutput(dataTable, element);\n",
              "          const docLink = document.createElement('div');\n",
              "          docLink.innerHTML = docLinkHtml;\n",
              "          element.appendChild(docLink);\n",
              "        }\n",
              "      </script>\n",
              "    </div>\n",
              "  </div>\n",
              "  "
            ]
          },
          "metadata": {},
          "execution_count": 17
        }
      ]
    },
    {
      "cell_type": "code",
      "source": [
        "observed_states=data[['landslide_size_int','landslide_trigger_int']].values\n"
      ],
      "metadata": {
        "id": "BpFdS-PFmANa"
      },
      "execution_count": null,
      "outputs": []
    },
    {
      "cell_type": "code",
      "source": [
        "states =data['landslide_category'].unique()\n",
        "print(states)"
      ],
      "metadata": {
        "colab": {
          "base_uri": "https://localhost:8080/"
        },
        "id": "oB8AoceQ-N0l",
        "outputId": "720be70f-3296-4728-b8c5-12f4cb95f316"
      },
      "execution_count": null,
      "outputs": [
        {
          "output_type": "stream",
          "name": "stdout",
          "text": [
            "['slide' 'rock_fall' 'complex' 'earth_fall' 'earth_flow' 'debris_flow'\n",
            " 'snow_avalanche' 'lahar' 'creep']\n"
          ]
        }
      ]
    },
    {
      "cell_type": "code",
      "source": [
        "hidden_states=data['landslide_category'].values"
      ],
      "metadata": {
        "id": "2bmyshxGJ-Tj"
      },
      "execution_count": null,
      "outputs": []
    },
    {
      "cell_type": "code",
      "source": [
        "from sklearn.model_selection import train_test_split\n",
        "# Split dataset into training and testing sets\n",
        "X_train, X_test, y_train, y_test = train_test_split(observed_states, hidden_states, test_size=0.2, random_state=42)"
      ],
      "metadata": {
        "id": "Y7E18MYMLVu7"
      },
      "execution_count": null,
      "outputs": []
    },
    {
      "cell_type": "code",
      "source": [
        "# Fit the model on the training set\n",
        "model = hmm.CategoricalHMM(n_components=9)\n",
        "model.fit(X_train)\n"
      ],
      "metadata": {
        "colab": {
          "base_uri": "https://localhost:8080/"
        },
        "id": "WsxrH-L5LgeQ",
        "outputId": "c9513088-eafb-4e44-e20d-4baa6b3ab6f4"
      },
      "execution_count": null,
      "outputs": [
        {
          "output_type": "execute_result",
          "data": {
            "text/plain": [
              "CategoricalHMM(n_components=9,\n",
              "               random_state=RandomState(MT19937) at 0x7FC825213340)"
            ],
            "text/html": [
              "<style>#sk-container-id-1 {color: black;background-color: white;}#sk-container-id-1 pre{padding: 0;}#sk-container-id-1 div.sk-toggleable {background-color: white;}#sk-container-id-1 label.sk-toggleable__label {cursor: pointer;display: block;width: 100%;margin-bottom: 0;padding: 0.3em;box-sizing: border-box;text-align: center;}#sk-container-id-1 label.sk-toggleable__label-arrow:before {content: \"▸\";float: left;margin-right: 0.25em;color: #696969;}#sk-container-id-1 label.sk-toggleable__label-arrow:hover:before {color: black;}#sk-container-id-1 div.sk-estimator:hover label.sk-toggleable__label-arrow:before {color: black;}#sk-container-id-1 div.sk-toggleable__content {max-height: 0;max-width: 0;overflow: hidden;text-align: left;background-color: #f0f8ff;}#sk-container-id-1 div.sk-toggleable__content pre {margin: 0.2em;color: black;border-radius: 0.25em;background-color: #f0f8ff;}#sk-container-id-1 input.sk-toggleable__control:checked~div.sk-toggleable__content {max-height: 200px;max-width: 100%;overflow: auto;}#sk-container-id-1 input.sk-toggleable__control:checked~label.sk-toggleable__label-arrow:before {content: \"▾\";}#sk-container-id-1 div.sk-estimator input.sk-toggleable__control:checked~label.sk-toggleable__label {background-color: #d4ebff;}#sk-container-id-1 div.sk-label input.sk-toggleable__control:checked~label.sk-toggleable__label {background-color: #d4ebff;}#sk-container-id-1 input.sk-hidden--visually {border: 0;clip: rect(1px 1px 1px 1px);clip: rect(1px, 1px, 1px, 1px);height: 1px;margin: -1px;overflow: hidden;padding: 0;position: absolute;width: 1px;}#sk-container-id-1 div.sk-estimator {font-family: monospace;background-color: #f0f8ff;border: 1px dotted black;border-radius: 0.25em;box-sizing: border-box;margin-bottom: 0.5em;}#sk-container-id-1 div.sk-estimator:hover {background-color: #d4ebff;}#sk-container-id-1 div.sk-parallel-item::after {content: \"\";width: 100%;border-bottom: 1px solid gray;flex-grow: 1;}#sk-container-id-1 div.sk-label:hover label.sk-toggleable__label {background-color: #d4ebff;}#sk-container-id-1 div.sk-serial::before {content: \"\";position: absolute;border-left: 1px solid gray;box-sizing: border-box;top: 0;bottom: 0;left: 50%;z-index: 0;}#sk-container-id-1 div.sk-serial {display: flex;flex-direction: column;align-items: center;background-color: white;padding-right: 0.2em;padding-left: 0.2em;position: relative;}#sk-container-id-1 div.sk-item {position: relative;z-index: 1;}#sk-container-id-1 div.sk-parallel {display: flex;align-items: stretch;justify-content: center;background-color: white;position: relative;}#sk-container-id-1 div.sk-item::before, #sk-container-id-1 div.sk-parallel-item::before {content: \"\";position: absolute;border-left: 1px solid gray;box-sizing: border-box;top: 0;bottom: 0;left: 50%;z-index: -1;}#sk-container-id-1 div.sk-parallel-item {display: flex;flex-direction: column;z-index: 1;position: relative;background-color: white;}#sk-container-id-1 div.sk-parallel-item:first-child::after {align-self: flex-end;width: 50%;}#sk-container-id-1 div.sk-parallel-item:last-child::after {align-self: flex-start;width: 50%;}#sk-container-id-1 div.sk-parallel-item:only-child::after {width: 0;}#sk-container-id-1 div.sk-dashed-wrapped {border: 1px dashed gray;margin: 0 0.4em 0.5em 0.4em;box-sizing: border-box;padding-bottom: 0.4em;background-color: white;}#sk-container-id-1 div.sk-label label {font-family: monospace;font-weight: bold;display: inline-block;line-height: 1.2em;}#sk-container-id-1 div.sk-label-container {text-align: center;}#sk-container-id-1 div.sk-container {/* jupyter's `normalize.less` sets `[hidden] { display: none; }` but bootstrap.min.css set `[hidden] { display: none !important; }` so we also need the `!important` here to be able to override the default hidden behavior on the sphinx rendered scikit-learn.org. See: https://github.com/scikit-learn/scikit-learn/issues/21755 */display: inline-block !important;position: relative;}#sk-container-id-1 div.sk-text-repr-fallback {display: none;}</style><div id=\"sk-container-id-1\" class=\"sk-top-container\"><div class=\"sk-text-repr-fallback\"><pre>CategoricalHMM(n_components=9,\n",
              "               random_state=RandomState(MT19937) at 0x7FC825213340)</pre><b>In a Jupyter environment, please rerun this cell to show the HTML representation or trust the notebook. <br />On GitHub, the HTML representation is unable to render, please try loading this page with nbviewer.org.</b></div><div class=\"sk-container\" hidden><div class=\"sk-item\"><div class=\"sk-estimator sk-toggleable\"><input class=\"sk-toggleable__control sk-hidden--visually\" id=\"sk-estimator-id-1\" type=\"checkbox\" checked><label for=\"sk-estimator-id-1\" class=\"sk-toggleable__label sk-toggleable__label-arrow\">CategoricalHMM</label><div class=\"sk-toggleable__content\"><pre>CategoricalHMM(n_components=9,\n",
              "               random_state=RandomState(MT19937) at 0x7FC825213340)</pre></div></div></div></div></div>"
            ]
          },
          "metadata": {},
          "execution_count": 22
        }
      ]
    },
    {
      "cell_type": "code",
      "source": [
        "ls=int(input(\"small : 0, medium : 1, large : 2, very_large : 3, catastrophic : 4 Enter Landslide size : \"))\n",
        "lt=int(input(\"Construction : 0, Earthquake : 1, Flooding : 2, Mining : 3, Monsoon : 4, Rain : 5, Snow : 6, Tropical_Cyclone : 7 Enter Landslide trigger : \"))"
      ],
      "metadata": {
        "id": "ezung5Oac_Vw"
      },
      "execution_count": null,
      "outputs": []
    },
    {
      "cell_type": "code",
      "source": [
        "\n",
        "input_data = pd.DataFrame({'landslide_size_int': [ls], 'landslide_trigger_int': [lt]})\n",
        "pred=model.predict(input_data)"
      ],
      "metadata": {
        "id": "RO64NJKLces9"
      },
      "execution_count": null,
      "outputs": []
    },
    {
      "cell_type": "code",
      "source": [
        "print(pred)"
      ],
      "metadata": {
        "id": "Q68qfVvyKGUr"
      },
      "execution_count": null,
      "outputs": []
    },
    {
      "cell_type": "code",
      "source": [
        "# Define categorical states\n",
        "categories = ['slide', 'rock_fall', 'complex', 'earth_fall', 'earth_flow', 'debris_flow', 'snow_avalanche', 'lahar', 'creep']\n",
        "# Define a lookup table to map states to categories\n",
        "state_to_category = {i: category for i, category in enumerate(categories)}\n",
        "# Map the state sequence to the corresponding category\n",
        "predicted_category = state_to_category[pred[0]]\n",
        "predicted_category1 = state_to_category[pred[1]]"
      ],
      "metadata": {
        "id": "mbCUMAOafU3i"
      },
      "execution_count": null,
      "outputs": []
    },
    {
      "cell_type": "code",
      "source": [
        "# Get the probability distribution over all possible states for the given input\n",
        "proba = model.predict_proba(input_data)\n",
        "# Get the index of the predicted category\n",
        "pred_category_idx = categories.index(predicted_category)\n",
        "# Get the probability of the predicted category\n",
        "pred_category_proba = proba[0][pred_category_idx]\n",
        "pred_category_proba1 = proba[1][pred_category_idx]"
      ],
      "metadata": {
        "id": "XrCe4yuwnDeN"
      },
      "execution_count": null,
      "outputs": []
    },
    {
      "cell_type": "code",
      "source": [
        "print(predicted_category)\n",
        "print(\"Probability of predicted category :\", pred_category_proba)"
      ],
      "metadata": {
        "id": "a58l5HGqnFEj"
      },
      "execution_count": null,
      "outputs": []
    },
    {
      "cell_type": "code",
      "source": [
        "\n",
        "print(predicted_category1)\n",
        "print(\"Probability of predicted category:\", pred_category_proba1)\n"
      ],
      "metadata": {
        "id": "fq6ycmY7npUn"
      },
      "execution_count": null,
      "outputs": []
    },
    {
      "cell_type": "code",
      "source": [
        "import landsatxplore.api\n",
        "import landsatxplore.earthexplorer\n",
        "import numpy as np\n",
        "import rasterio.plot\n",
        "import rasterio.warp\n",
        "import matplotlib.pyplot as plt\n",
        "\n",
        "# Define the latitude and longitude coordinates of the location\n",
        "lat, lon = 40.7128, -74.0060\n",
        "\n",
        "# Connect to the EarthExplorer API\n",
        "ee = landsatxplore.earthexplorer.EarthExplorer('username', 'password')\n",
        "\n",
        "# Search for Landsat 8 imagery that covers the given point\n",
        "scenes = ee.search(\n",
        "    dataset='LANDSAT_8_C1',\n",
        "    latitude=lat,\n",
        "    longitude=lon,\n",
        "    start_date='2020-01-01',\n",
        "    end_date='2020-12-31',\n",
        "    max_cloud_cover=10,\n",
        "    max_results=1\n",
        ")\n",
        "\n",
        "# Download the first scene in the search results\n",
        "scene_id = scenes[0]['entityId']\n",
        "ee.download(scene_id, output_dir='path/to/save/images')\n",
        "\n",
        "# Open the downloaded image using rasterio\n",
        "with rasterio.open('path/to/save/images/LC08_L1TP_012031_20200819_20200905_01_T1_B4.TIF') as src:\n",
        "    # Reproject the image to Web Mercator for display in matplotlib\n",
        "    transform, width, height = rasterio.warp.calculate_default_transform(\n",
        "        src.crs, 'EPSG:3857', src.width, src.height, *src.bounds)\n",
        "    kwargs = src.meta.copy()\n",
        "    kwargs.update({\n",
        "        'crs': 'EPSG:3857',\n",
        "        'transform': transform,\n",
        "        'width': width,\n",
        "        'height': height\n",
        "    })\n",
        "    image = src.read(1, out_shape=(src.height, src.width))\n",
        "\n",
        "# Display the image using matplotlib\n",
        "plt.imshow(image, cmap='gray')\n",
        "plt.show()\n"
      ],
      "metadata": {
        "id": "53QTIWeH0cAb"
      },
      "execution_count": null,
      "outputs": []
    }
  ]
}